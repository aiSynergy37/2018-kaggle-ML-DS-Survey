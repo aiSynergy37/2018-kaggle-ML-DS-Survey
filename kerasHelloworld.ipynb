{
  "nbformat": 4,
  "nbformat_minor": 0,
  "metadata": {
    "colab": {
      "name": "kerasHelloworld.ipynb",
      "version": "0.3.2",
      "provenance": [],
      "include_colab_link": true
    },
    "kernelspec": {
      "name": "python3",
      "display_name": "Python 3"
    }
  },
  "cells": [
    {
      "cell_type": "markdown",
      "metadata": {
        "id": "view-in-github",
        "colab_type": "text"
      },
      "source": [
        "<a href=\"https://colab.research.google.com/github/aiSynergy37/2018-kaggle-ML-DS-Survey/blob/master/kerasHelloworld.ipynb\" target=\"_parent\"><img src=\"https://colab.research.google.com/assets/colab-badge.svg\" alt=\"Open In Colab\"/></a>"
      ]
    },
    {
      "metadata": {
        "id": "GlP5wMmbXBay",
        "colab_type": "code",
        "colab": {}
      },
      "cell_type": "code",
      "source": [
        "#Loading the MNIST dataset in Keras"
      ],
      "execution_count": 0,
      "outputs": []
    },
    {
      "metadata": {
        "id": "_zLQ3TFkXL7Y",
        "colab_type": "code",
        "colab": {
          "base_uri": "https://localhost:8080/",
          "height": 34
        },
        "outputId": "f77c980c-5591-466c-8389-66e185b34a5e"
      },
      "cell_type": "code",
      "source": [
        "from keras.datasets import mnist"
      ],
      "execution_count": 2,
      "outputs": [
        {
          "output_type": "stream",
          "text": [
            "Using TensorFlow backend.\n"
          ],
          "name": "stderr"
        }
      ]
    },
    {
      "metadata": {
        "id": "zc-luAJFXQPI",
        "colab_type": "code",
        "colab": {
          "base_uri": "https://localhost:8080/",
          "height": 51
        },
        "outputId": "640b74c8-b173-45bc-ba29-3e6e524b2101"
      },
      "cell_type": "code",
      "source": [
        "(train_images,train_labels),(test_images,test_labels)=mnist.load_data()"
      ],
      "execution_count": 4,
      "outputs": [
        {
          "output_type": "stream",
          "text": [
            "Downloading data from https://s3.amazonaws.com/img-datasets/mnist.npz\n",
            "11493376/11490434 [==============================] - 0s 0us/step\n"
          ],
          "name": "stdout"
        }
      ]
    },
    {
      "metadata": {
        "id": "V1griDR3XaBY",
        "colab_type": "code",
        "colab": {
          "base_uri": "https://localhost:8080/",
          "height": 34
        },
        "outputId": "bccab0b3-9214-4d98-e68b-85ae1f2c578f"
      },
      "cell_type": "code",
      "source": [
        "train_images.shape"
      ],
      "execution_count": 5,
      "outputs": [
        {
          "output_type": "execute_result",
          "data": {
            "text/plain": [
              "(60000, 28, 28)"
            ]
          },
          "metadata": {
            "tags": []
          },
          "execution_count": 5
        }
      ]
    },
    {
      "metadata": {
        "id": "bEY0avhkXn_o",
        "colab_type": "code",
        "colab": {
          "base_uri": "https://localhost:8080/",
          "height": 34
        },
        "outputId": "cd7fe4c6-44c6-43ba-c691-df80ff4ad640"
      },
      "cell_type": "code",
      "source": [
        "len(train_labels)"
      ],
      "execution_count": 6,
      "outputs": [
        {
          "output_type": "execute_result",
          "data": {
            "text/plain": [
              "60000"
            ]
          },
          "metadata": {
            "tags": []
          },
          "execution_count": 6
        }
      ]
    },
    {
      "metadata": {
        "id": "kbw-MLRvXr73",
        "colab_type": "code",
        "colab": {
          "base_uri": "https://localhost:8080/",
          "height": 34
        },
        "outputId": "de9bd6e3-14e4-4127-cd6d-f53b996bb4a0"
      },
      "cell_type": "code",
      "source": [
        "train_labels"
      ],
      "execution_count": 7,
      "outputs": [
        {
          "output_type": "execute_result",
          "data": {
            "text/plain": [
              "array([5, 0, 4, ..., 5, 6, 8], dtype=uint8)"
            ]
          },
          "metadata": {
            "tags": []
          },
          "execution_count": 7
        }
      ]
    },
    {
      "metadata": {
        "id": "GdeUuHx5Xv_m",
        "colab_type": "code",
        "colab": {}
      },
      "cell_type": "code",
      "source": [
        "#The training data\n",
        "#The test data"
      ],
      "execution_count": 0,
      "outputs": []
    },
    {
      "metadata": {
        "id": "7f8UphIpX37W",
        "colab_type": "code",
        "colab": {
          "base_uri": "https://localhost:8080/",
          "height": 34
        },
        "outputId": "5a4c6534-12d8-46d6-d464-70348c65f4d6"
      },
      "cell_type": "code",
      "source": [
        "test_images.shape"
      ],
      "execution_count": 9,
      "outputs": [
        {
          "output_type": "execute_result",
          "data": {
            "text/plain": [
              "(10000, 28, 28)"
            ]
          },
          "metadata": {
            "tags": []
          },
          "execution_count": 9
        }
      ]
    },
    {
      "metadata": {
        "id": "qYkFF0p6X6K3",
        "colab_type": "code",
        "colab": {
          "base_uri": "https://localhost:8080/",
          "height": 34
        },
        "outputId": "da6f704a-ef99-4522-8dbf-c429939c532d"
      },
      "cell_type": "code",
      "source": [
        "len(test_labels)"
      ],
      "execution_count": 10,
      "outputs": [
        {
          "output_type": "execute_result",
          "data": {
            "text/plain": [
              "10000"
            ]
          },
          "metadata": {
            "tags": []
          },
          "execution_count": 10
        }
      ]
    },
    {
      "metadata": {
        "id": "BPavP3NkX8zX",
        "colab_type": "code",
        "colab": {}
      },
      "cell_type": "code",
      "source": [
        "#The network architecture\n",
        "from keras import models"
      ],
      "execution_count": 0,
      "outputs": []
    },
    {
      "metadata": {
        "id": "jy-lQ5pjYAFo",
        "colab_type": "code",
        "colab": {}
      },
      "cell_type": "code",
      "source": [
        "from keras import layers"
      ],
      "execution_count": 0,
      "outputs": []
    },
    {
      "metadata": {
        "id": "xpGTcavcYCKH",
        "colab_type": "code",
        "colab": {}
      },
      "cell_type": "code",
      "source": [
        "network=models.Sequential()"
      ],
      "execution_count": 0,
      "outputs": []
    },
    {
      "metadata": {
        "id": "t39dQUHBYGZm",
        "colab_type": "code",
        "colab": {
          "base_uri": "https://localhost:8080/",
          "height": 88
        },
        "outputId": "af926e93-798b-4d4c-c288-bc3ee093457a"
      },
      "cell_type": "code",
      "source": [
        "network.add(layers.Dense(512,activation='relu',input_shape=(28*28,)))"
      ],
      "execution_count": 15,
      "outputs": [
        {
          "output_type": "stream",
          "text": [
            "WARNING:tensorflow:From /usr/local/lib/python3.6/dist-packages/tensorflow/python/framework/op_def_library.py:263: colocate_with (from tensorflow.python.framework.ops) is deprecated and will be removed in a future version.\n",
            "Instructions for updating:\n",
            "Colocations handled automatically by placer.\n"
          ],
          "name": "stdout"
        }
      ]
    },
    {
      "metadata": {
        "id": "jiatrTpZYf-Y",
        "colab_type": "code",
        "colab": {}
      },
      "cell_type": "code",
      "source": [
        "network.add(layers.Dense(10,activation='softmax'))"
      ],
      "execution_count": 0,
      "outputs": []
    },
    {
      "metadata": {
        "id": "KZdjjDbpYtom",
        "colab_type": "code",
        "colab": {}
      },
      "cell_type": "code",
      "source": [
        "#The compilation step"
      ],
      "execution_count": 0,
      "outputs": []
    },
    {
      "metadata": {
        "id": "ougq8lgdYyHH",
        "colab_type": "code",
        "colab": {}
      },
      "cell_type": "code",
      "source": [
        "network.compile(optimizer='rmsprop',loss='categorical_crossentropy',\n",
        "               metrics=['accuracy'])"
      ],
      "execution_count": 0,
      "outputs": []
    },
    {
      "metadata": {
        "id": "SDkIwwJ3ZBbn",
        "colab_type": "code",
        "colab": {}
      },
      "cell_type": "code",
      "source": [
        "#Preparing image data"
      ],
      "execution_count": 0,
      "outputs": []
    },
    {
      "metadata": {
        "id": "cZZZNdrrZFgm",
        "colab_type": "code",
        "colab": {}
      },
      "cell_type": "code",
      "source": [
        "train_images=train_images.reshape((60000,28*28))"
      ],
      "execution_count": 0,
      "outputs": []
    },
    {
      "metadata": {
        "id": "OBsFzKLSbBvV",
        "colab_type": "code",
        "colab": {}
      },
      "cell_type": "code",
      "source": [
        "train_images=train_images.astype('float32')/255"
      ],
      "execution_count": 0,
      "outputs": []
    },
    {
      "metadata": {
        "id": "bWuQ5t5kbKAW",
        "colab_type": "code",
        "colab": {}
      },
      "cell_type": "code",
      "source": [
        "test_images=test_images.reshape((10000,28*28))"
      ],
      "execution_count": 0,
      "outputs": []
    },
    {
      "metadata": {
        "id": "wBJPnOIdbQ8V",
        "colab_type": "code",
        "colab": {}
      },
      "cell_type": "code",
      "source": [
        "test_images=test_images.astype('float32')/255"
      ],
      "execution_count": 0,
      "outputs": []
    },
    {
      "metadata": {
        "id": "RSuEqQn0bXkF",
        "colab_type": "code",
        "colab": {}
      },
      "cell_type": "code",
      "source": [
        "#Preparing the labels"
      ],
      "execution_count": 0,
      "outputs": []
    },
    {
      "metadata": {
        "id": "dLUqSEqVbb1p",
        "colab_type": "code",
        "colab": {}
      },
      "cell_type": "code",
      "source": [
        "from keras.utils import to_categorical"
      ],
      "execution_count": 0,
      "outputs": []
    },
    {
      "metadata": {
        "id": "FQt7Zm3BbfB1",
        "colab_type": "code",
        "colab": {}
      },
      "cell_type": "code",
      "source": [
        "train_labels=to_categorical(train_labels)"
      ],
      "execution_count": 0,
      "outputs": []
    },
    {
      "metadata": {
        "id": "NhF-5Qr5bjqM",
        "colab_type": "code",
        "colab": {}
      },
      "cell_type": "code",
      "source": [
        "test_labels=to_categorical(test_labels)"
      ],
      "execution_count": 0,
      "outputs": []
    },
    {
      "metadata": {
        "id": "5fSWMXxKbwFu",
        "colab_type": "code",
        "colab": {
          "base_uri": "https://localhost:8080/",
          "height": 275
        },
        "outputId": "eb128222-cbc1-432a-f338-e5d96cafc7db"
      },
      "cell_type": "code",
      "source": [
        "network.fit(train_images,train_labels,epochs=5,batch_size=128)"
      ],
      "execution_count": 30,
      "outputs": [
        {
          "output_type": "stream",
          "text": [
            "WARNING:tensorflow:From /usr/local/lib/python3.6/dist-packages/tensorflow/python/ops/math_ops.py:3066: to_int32 (from tensorflow.python.ops.math_ops) is deprecated and will be removed in a future version.\n",
            "Instructions for updating:\n",
            "Use tf.cast instead.\n",
            "Epoch 1/5\n",
            "60000/60000 [==============================] - 6s 96us/step - loss: 0.2551 - acc: 0.9261\n",
            "Epoch 2/5\n",
            "60000/60000 [==============================] - 5s 84us/step - loss: 0.1024 - acc: 0.9698\n",
            "Epoch 3/5\n",
            "60000/60000 [==============================] - 5s 85us/step - loss: 0.0675 - acc: 0.9800\n",
            "Epoch 4/5\n",
            "60000/60000 [==============================] - 5s 85us/step - loss: 0.0487 - acc: 0.9852\n",
            "Epoch 5/5\n",
            "60000/60000 [==============================] - 5s 86us/step - loss: 0.0368 - acc: 0.9888\n"
          ],
          "name": "stdout"
        },
        {
          "output_type": "execute_result",
          "data": {
            "text/plain": [
              "<keras.callbacks.History at 0x7f9401ab65f8>"
            ]
          },
          "metadata": {
            "tags": []
          },
          "execution_count": 30
        }
      ]
    },
    {
      "metadata": {
        "id": "qLT77HeWb4kV",
        "colab_type": "code",
        "colab": {
          "base_uri": "https://localhost:8080/",
          "height": 34
        },
        "outputId": "96b7ae9f-a5e2-4b41-f41c-846b5cb51c6a"
      },
      "cell_type": "code",
      "source": [
        "test_loss,test_acc=network.evaluate(test_images,test_labels)"
      ],
      "execution_count": 31,
      "outputs": [
        {
          "output_type": "stream",
          "text": [
            "10000/10000 [==============================] - 1s 52us/step\n"
          ],
          "name": "stdout"
        }
      ]
    },
    {
      "metadata": {
        "id": "resvyqdRcD8H",
        "colab_type": "code",
        "colab": {
          "base_uri": "https://localhost:8080/",
          "height": 34
        },
        "outputId": "8e3a7b65-899b-4c74-fdae-7ff30abc4edf"
      },
      "cell_type": "code",
      "source": [
        "print('test_acc',test_acc)"
      ],
      "execution_count": 32,
      "outputs": [
        {
          "output_type": "stream",
          "text": [
            "test_acc 0.9795\n"
          ],
          "name": "stdout"
        }
      ]
    },
    {
      "metadata": {
        "id": "Y2VGtPDfcIuI",
        "colab_type": "code",
        "colab": {}
      },
      "cell_type": "code",
      "source": [
        "import numpy as np"
      ],
      "execution_count": 0,
      "outputs": []
    },
    {
      "metadata": {
        "id": "KhGtV5hxcRmX",
        "colab_type": "code",
        "colab": {}
      },
      "cell_type": "code",
      "source": [
        "x=np.array(12)"
      ],
      "execution_count": 0,
      "outputs": []
    },
    {
      "metadata": {
        "id": "H9XR4-BocTOV",
        "colab_type": "code",
        "colab": {
          "base_uri": "https://localhost:8080/",
          "height": 34
        },
        "outputId": "cb3767cd-7f6e-426a-85a1-f134d110bfbf"
      },
      "cell_type": "code",
      "source": [
        "x"
      ],
      "execution_count": 35,
      "outputs": [
        {
          "output_type": "execute_result",
          "data": {
            "text/plain": [
              "array(12)"
            ]
          },
          "metadata": {
            "tags": []
          },
          "execution_count": 35
        }
      ]
    },
    {
      "metadata": {
        "id": "KtpkHE9EcT6V",
        "colab_type": "code",
        "colab": {
          "base_uri": "https://localhost:8080/",
          "height": 34
        },
        "outputId": "5fdb1a24-6766-48b9-e155-cfb4520ad9eb"
      },
      "cell_type": "code",
      "source": [
        "x.ndim"
      ],
      "execution_count": 36,
      "outputs": [
        {
          "output_type": "execute_result",
          "data": {
            "text/plain": [
              "0"
            ]
          },
          "metadata": {
            "tags": []
          },
          "execution_count": 36
        }
      ]
    },
    {
      "metadata": {
        "id": "7S5Xg_ElcUwW",
        "colab_type": "code",
        "colab": {}
      },
      "cell_type": "code",
      "source": [
        "x=np.array([12,6,3,14])"
      ],
      "execution_count": 0,
      "outputs": []
    },
    {
      "metadata": {
        "id": "gNak5RmzcYjF",
        "colab_type": "code",
        "colab": {
          "base_uri": "https://localhost:8080/",
          "height": 34
        },
        "outputId": "7ffcf7c1-3ef1-4c38-95c0-f3559944926d"
      },
      "cell_type": "code",
      "source": [
        "x"
      ],
      "execution_count": 38,
      "outputs": [
        {
          "output_type": "execute_result",
          "data": {
            "text/plain": [
              "array([12,  6,  3, 14])"
            ]
          },
          "metadata": {
            "tags": []
          },
          "execution_count": 38
        }
      ]
    },
    {
      "metadata": {
        "id": "8i32aGQicZUV",
        "colab_type": "code",
        "colab": {
          "base_uri": "https://localhost:8080/",
          "height": 34
        },
        "outputId": "2fcd2c61-0a9d-4476-8a17-b5fb7fbc657e"
      },
      "cell_type": "code",
      "source": [
        "x.ndim"
      ],
      "execution_count": 39,
      "outputs": [
        {
          "output_type": "execute_result",
          "data": {
            "text/plain": [
              "1"
            ]
          },
          "metadata": {
            "tags": []
          },
          "execution_count": 39
        }
      ]
    },
    {
      "metadata": {
        "id": "QvS5bNh-ca53",
        "colab_type": "code",
        "colab": {}
      },
      "cell_type": "code",
      "source": [
        "x=np.array([[5,78,2,34,0],[6,79,3,25,1],[7,80,4,36,2]])"
      ],
      "execution_count": 0,
      "outputs": []
    },
    {
      "metadata": {
        "id": "rJtI2IWmcot3",
        "colab_type": "code",
        "colab": {
          "base_uri": "https://localhost:8080/",
          "height": 34
        },
        "outputId": "5e7ff62e-d9a9-462b-8b66-d349600cf227"
      },
      "cell_type": "code",
      "source": [
        "x.ndim"
      ],
      "execution_count": 41,
      "outputs": [
        {
          "output_type": "execute_result",
          "data": {
            "text/plain": [
              "2"
            ]
          },
          "metadata": {
            "tags": []
          },
          "execution_count": 41
        }
      ]
    },
    {
      "metadata": {
        "id": "h1bMIcfccqUW",
        "colab_type": "code",
        "colab": {}
      },
      "cell_type": "code",
      "source": [
        "x=np.array([[[1,2,3],\n",
        "            [4,5,6],\n",
        "            [7,8,9]],\n",
        "           [[1,2,3],\n",
        "            [4,5,6],\n",
        "            [7,8,9]],\n",
        "           [[1,2,3],\n",
        "           [4,5,6],\n",
        "           [7,8,9]]])"
      ],
      "execution_count": 0,
      "outputs": []
    },
    {
      "metadata": {
        "id": "0qHN9ZXkdPZx",
        "colab_type": "code",
        "colab": {
          "base_uri": "https://localhost:8080/",
          "height": 34
        },
        "outputId": "b5b5024f-a04a-4337-fd05-e6c86f47b1c1"
      },
      "cell_type": "code",
      "source": [
        "x.ndim"
      ],
      "execution_count": 44,
      "outputs": [
        {
          "output_type": "execute_result",
          "data": {
            "text/plain": [
              "3"
            ]
          },
          "metadata": {
            "tags": []
          },
          "execution_count": 44
        }
      ]
    },
    {
      "metadata": {
        "id": "GZhdhoasdZMl",
        "colab_type": "code",
        "colab": {}
      },
      "cell_type": "code",
      "source": [
        "from keras.datasets import mnist"
      ],
      "execution_count": 0,
      "outputs": []
    },
    {
      "metadata": {
        "id": "GkMFsurndh4k",
        "colab_type": "code",
        "colab": {}
      },
      "cell_type": "code",
      "source": [
        "(train_images,train_labels),(test_images,test_labels)=mnist.load_data()"
      ],
      "execution_count": 0,
      "outputs": []
    },
    {
      "metadata": {
        "id": "BRoX-H3GdrTm",
        "colab_type": "code",
        "colab": {
          "base_uri": "https://localhost:8080/",
          "height": 34
        },
        "outputId": "a787f628-f31b-49d3-f22b-10d23142df0d"
      },
      "cell_type": "code",
      "source": [
        "print(train_images.ndim)"
      ],
      "execution_count": 47,
      "outputs": [
        {
          "output_type": "stream",
          "text": [
            "3\n"
          ],
          "name": "stdout"
        }
      ]
    },
    {
      "metadata": {
        "id": "N8JpYp1xdujG",
        "colab_type": "code",
        "colab": {
          "base_uri": "https://localhost:8080/",
          "height": 34
        },
        "outputId": "fc3bd27b-7aa2-467f-fc71-9c87300ee2eb"
      },
      "cell_type": "code",
      "source": [
        "print(train_images.shape)"
      ],
      "execution_count": 48,
      "outputs": [
        {
          "output_type": "stream",
          "text": [
            "(60000, 28, 28)\n"
          ],
          "name": "stdout"
        }
      ]
    },
    {
      "metadata": {
        "id": "SK3wrxngdxel",
        "colab_type": "code",
        "colab": {
          "base_uri": "https://localhost:8080/",
          "height": 34
        },
        "outputId": "0783f9d8-4472-447e-db45-42582eeb078a"
      },
      "cell_type": "code",
      "source": [
        "print(train_images.dtype)"
      ],
      "execution_count": 49,
      "outputs": [
        {
          "output_type": "stream",
          "text": [
            "uint8\n"
          ],
          "name": "stdout"
        }
      ]
    },
    {
      "metadata": {
        "id": "4ltmWTxkd0LF",
        "colab_type": "code",
        "colab": {}
      },
      "cell_type": "code",
      "source": [
        "digit=train_images[4]"
      ],
      "execution_count": 0,
      "outputs": []
    },
    {
      "metadata": {
        "id": "wYiu67R9d4rX",
        "colab_type": "code",
        "colab": {}
      },
      "cell_type": "code",
      "source": [
        "import matplotlib.pyplot as plt"
      ],
      "execution_count": 0,
      "outputs": []
    },
    {
      "metadata": {
        "id": "A8UavU2Pd7cF",
        "colab_type": "code",
        "colab": {
          "base_uri": "https://localhost:8080/",
          "height": 347
        },
        "outputId": "4bfed3e8-8265-4f34-a3e9-3c010e188ec5"
      },
      "cell_type": "code",
      "source": [
        "plt.imshow(digit,cmap=plt.cm.binary)\n",
        "plt.show()"
      ],
      "execution_count": 53,
      "outputs": [
        {
          "output_type": "display_data",
          "data": {
            "image/png": "[encoded data removed]",
            "text/plain": [
              "<Figure size 576x396 with 1 Axes>"
            ]
          },
          "metadata": {
            "tags": []
          }
        }
      ]
    },
    {
      "metadata": {
        "id": "EZmQMaZHeALl",
        "colab_type": "code",
        "colab": {}
      },
      "cell_type": "code",
      "source": [
        "my_slice=train_images[10:100]"
      ],
      "execution_count": 0,
      "outputs": []
    },
    {
      "metadata": {
        "id": "3iaRsBK9eLll",
        "colab_type": "code",
        "colab": {
          "base_uri": "https://localhost:8080/",
          "height": 34
        },
        "outputId": "93122753-b9e0-4ad4-a314-867edd8da4af"
      },
      "cell_type": "code",
      "source": [
        "print(my_slice.shape)"
      ],
      "execution_count": 55,
      "outputs": [
        {
          "output_type": "stream",
          "text": [
            "(90, 28, 28)\n"
          ],
          "name": "stdout"
        }
      ]
    },
    {
      "metadata": {
        "id": "d7DeAd-FeOAm",
        "colab_type": "code",
        "colab": {}
      },
      "cell_type": "code",
      "source": [
        "my_slice=train_images[10:100,:,:]"
      ],
      "execution_count": 0,
      "outputs": []
    },
    {
      "metadata": {
        "id": "czAgyV75eUF5",
        "colab_type": "code",
        "colab": {
          "base_uri": "https://localhost:8080/",
          "height": 34
        },
        "outputId": "66f20501-a3aa-4f1b-ed89-93e7d4ee8767"
      },
      "cell_type": "code",
      "source": [
        "my_slice.shape"
      ],
      "execution_count": 57,
      "outputs": [
        {
          "output_type": "execute_result",
          "data": {
            "text/plain": [
              "(90, 28, 28)"
            ]
          },
          "metadata": {
            "tags": []
          },
          "execution_count": 57
        }
      ]
    },
    {
      "metadata": {
        "id": "ITEwL8B_eWIW",
        "colab_type": "code",
        "colab": {}
      },
      "cell_type": "code",
      "source": [
        "my_slice=train_images[:,14:,14:]"
      ],
      "execution_count": 0,
      "outputs": []
    },
    {
      "metadata": {
        "id": "O96D04iSeiK2",
        "colab_type": "code",
        "colab": {}
      },
      "cell_type": "code",
      "source": [
        "my_slice=train_images[:,7:-7,7:-7]"
      ],
      "execution_count": 0,
      "outputs": []
    },
    {
      "metadata": {
        "id": "z91cvXecepRm",
        "colab_type": "code",
        "colab": {}
      },
      "cell_type": "code",
      "source": [
        "#sliceing a tensor into batches"
      ],
      "execution_count": 0,
      "outputs": []
    },
    {
      "metadata": {
        "id": "sPg3kpjPevm1",
        "colab_type": "code",
        "colab": {}
      },
      "cell_type": "code",
      "source": [
        "batch=train_images[:128]"
      ],
      "execution_count": 0,
      "outputs": []
    },
    {
      "metadata": {
        "id": "Yu90I2rveyJl",
        "colab_type": "code",
        "colab": {}
      },
      "cell_type": "code",
      "source": [
        "#and here's the next batch"
      ],
      "execution_count": 0,
      "outputs": []
    },
    {
      "metadata": {
        "id": "mMxpXcCse1Fk",
        "colab_type": "code",
        "colab": {}
      },
      "cell_type": "code",
      "source": [
        "batch=train_images[128:256]"
      ],
      "execution_count": 0,
      "outputs": []
    },
    {
      "metadata": {
        "id": "gpU_4XrCe4MW",
        "colab_type": "code",
        "colab": {}
      },
      "cell_type": "code",
      "source": [
        "#and the n-th batch:\n"
      ],
      "execution_count": 0,
      "outputs": []
    },
    {
      "metadata": {
        "id": "kfNwh1bDe6jm",
        "colab_type": "code",
        "colab": {}
      },
      "cell_type": "code",
      "source": [
        "#a keras layer\n",
        "import keras"
      ],
      "execution_count": 0,
      "outputs": []
    },
    {
      "metadata": {
        "id": "cwxohUjIfArn",
        "colab_type": "code",
        "colab": {
          "base_uri": "https://localhost:8080/",
          "height": 34
        },
        "outputId": "16f367ed-a49e-4fbc-bd55-52ea4c97a07a"
      },
      "cell_type": "code",
      "source": [
        "keras.layers.Dense(512,activation='relu')"
      ],
      "execution_count": 68,
      "outputs": [
        {
          "output_type": "execute_result",
          "data": {
            "text/plain": [
              "<keras.layers.core.Dense at 0x7f93fa784710>"
            ]
          },
          "metadata": {
            "tags": []
          },
          "execution_count": 68
        }
      ]
    },
    {
      "metadata": {
        "id": "nXs4_tAGfUYl",
        "colab_type": "code",
        "colab": {}
      },
      "cell_type": "code",
      "source": [
        "#A naive implementation of an elementwise \"relu\" operation"
      ],
      "execution_count": 0,
      "outputs": []
    },
    {
      "metadata": {
        "id": "B0pn5ZTAfm31",
        "colab_type": "code",
        "colab": {}
      },
      "cell_type": "code",
      "source": [
        "def naive_relu(x):\n",
        "  #x is a 2D tensor\n",
        "  assert len(x.shape)==2\n",
        "  \n",
        "  \n",
        "  x=x.copy()#avoid overwriting the input tensor\n",
        "  for i in range(x.shape[0]):\n",
        "    for j in range(x.shape[1]):\n",
        "      x[i.j]=max(x[i,j],0)\n",
        "  return x\n",
        "    "
      ],
      "execution_count": 0,
      "outputs": []
    },
    {
      "metadata": {
        "id": "nNgSC8eOfxU2",
        "colab_type": "code",
        "colab": {}
      },
      "cell_type": "code",
      "source": [
        "#A naive implementation of element-wise addition"
      ],
      "execution_count": 0,
      "outputs": []
    },
    {
      "metadata": {
        "id": "69zTXyA3gZt_",
        "colab_type": "code",
        "colab": {}
      },
      "cell_type": "code",
      "source": [
        "def naive_add(x,y):\n",
        "  # xa nd y are 2D Numpy tensor\n",
        "  assert len(x.shape)==2\n",
        "  assert x.shape==y.shape\n",
        "  \n",
        "  x=x.copy()#avoid overwriting the input tensor\n",
        "  for i in range(x.shape[0]):\n",
        "    for j in range(x,shape[1]):\n",
        "      x[i,j] +=y[i,j]\n",
        "  return x\n",
        "    "
      ],
      "execution_count": 0,
      "outputs": []
    },
    {
      "metadata": {
        "id": "SbaPHZbXg_oN",
        "colab_type": "code",
        "colab": {}
      },
      "cell_type": "code",
      "source": [
        "#native element-wise operation in numpy"
      ],
      "execution_count": 0,
      "outputs": []
    },
    {
      "metadata": {
        "id": "sSRQ2e8zhGtl",
        "colab_type": "code",
        "colab": {}
      },
      "cell_type": "code",
      "source": [
        "import numpy as np"
      ],
      "execution_count": 0,
      "outputs": []
    },
    {
      "metadata": {
        "id": "3iq0cO-WhIXG",
        "colab_type": "code",
        "colab": {}
      },
      "cell_type": "code",
      "source": [
        "#a naive implementation of matrix-vector addition"
      ],
      "execution_count": 0,
      "outputs": []
    },
    {
      "metadata": {
        "id": "Xu5-BoxUhMPl",
        "colab_type": "code",
        "colab": {}
      },
      "cell_type": "code",
      "source": [
        "def naive_add_matrix_and_vector(x,y):\n",
        "  #x is a 2D numpy tensor\n",
        "  #y is a numpy vetcor\n",
        "  assert len(x.shape)==2\n",
        "  assert len(y.shape)==1\n",
        "  assert x.shape[1] ==y.shape[0]\n",
        "  x=x.copy()\n",
        "  \n",
        "  for i in range(x.shape[0]):\n",
        "    for j in range(x.shape[1]):\n",
        "      x[i.j] +=y[j]\n",
        "  return x"
      ],
      "execution_count": 0,
      "outputs": []
    },
    {
      "metadata": {
        "id": "PWu4k23KieLl",
        "colab_type": "code",
        "colab": {}
      },
      "cell_type": "code",
      "source": [
        "#Applying element-wise maximum operation to two tensors \n",
        "#of different ahspes vis broadcasting"
      ],
      "execution_count": 0,
      "outputs": []
    },
    {
      "metadata": {
        "id": "8si3lbtjiv3F",
        "colab_type": "code",
        "colab": {}
      },
      "cell_type": "code",
      "source": [
        "#x is a random tensor with shape(64,3,32,10)"
      ],
      "execution_count": 0,
      "outputs": []
    },
    {
      "metadata": {
        "id": "_H_lSNuai0_l",
        "colab_type": "code",
        "colab": {}
      },
      "cell_type": "code",
      "source": [
        "x=np.random.random((64,3,32,10))"
      ],
      "execution_count": 0,
      "outputs": []
    },
    {
      "metadata": {
        "id": "tPbGmWBXi6H1",
        "colab_type": "code",
        "colab": {}
      },
      "cell_type": "code",
      "source": [
        "#y is a random tensor with shape (32,10)"
      ],
      "execution_count": 0,
      "outputs": []
    },
    {
      "metadata": {
        "id": "AFNI1J_pi-ml",
        "colab_type": "code",
        "colab": {}
      },
      "cell_type": "code",
      "source": [
        "y=np.random.random((32,10))"
      ],
      "execution_count": 0,
      "outputs": []
    },
    {
      "metadata": {
        "id": "vtT8IREFjB3E",
        "colab_type": "code",
        "colab": {}
      },
      "cell_type": "code",
      "source": [
        "#The output z has shape (64,3,32,10) like x"
      ],
      "execution_count": 0,
      "outputs": []
    },
    {
      "metadata": {
        "id": "RFF41WSPjIj0",
        "colab_type": "code",
        "colab": {}
      },
      "cell_type": "code",
      "source": [
        "z=np.maximum(x,y)"
      ],
      "execution_count": 0,
      "outputs": []
    },
    {
      "metadata": {
        "id": "FtEsKSfEjLj0",
        "colab_type": "code",
        "colab": {
          "base_uri": "https://localhost:8080/",
          "height": 4420
        },
        "outputId": "deb67e40-e121-4113-e738-044d87c172a1"
      },
      "cell_type": "code",
      "source": [
        "z"
      ],
      "execution_count": 88,
      "outputs": [
        {
          "output_type": "execute_result",
          "data": {
            "text/plain": [
              "array([[[[0.77958967, 0.96036323, 0.43270253, ..., 0.0483911 ,\n",
              "          0.19070099, 0.81832916],\n",
              "         [0.83430281, 0.3623125 , 0.49562394, ..., 0.59263422,\n",
              "          0.80407519, 0.72081725],\n",
              "         [0.76753939, 0.07417447, 0.53203895, ..., 0.6181766 ,\n",
              "          0.84548831, 0.99803841],\n",
              "         ...,\n",
              "         [0.36471439, 0.90535582, 0.38402441, ..., 0.57918882,\n",
              "          0.61875084, 0.83486709],\n",
              "         [0.97630902, 0.91352782, 0.98188478, ..., 0.14812648,\n",
              "          0.8472843 , 0.4619092 ],\n",
              "         [0.63651422, 0.92329975, 0.66965238, ..., 0.40435033,\n",
              "          0.42915543, 0.4454663 ]],\n",
              "\n",
              "        [[0.46003981, 0.96036323, 0.43270253, ..., 0.09672213,\n",
              "          0.9785016 , 0.77572439],\n",
              "         [0.84553493, 0.3623125 , 0.85784112, ..., 0.25834968,\n",
              "          0.34991283, 0.97573348],\n",
              "         [0.83811259, 0.99071126, 0.08911096, ..., 0.6181766 ,\n",
              "          0.95825706, 0.99803841],\n",
              "         ...,\n",
              "         [0.63228204, 0.96029783, 0.38402441, ..., 0.57918882,\n",
              "          0.61875084, 0.5047576 ],\n",
              "         [0.65686219, 0.91352782, 0.65686095, ..., 0.65367987,\n",
              "          0.8472843 , 0.66944874],\n",
              "         [0.95978677, 0.92329975, 0.73675318, ..., 0.46904834,\n",
              "          0.42915543, 0.74601522]],\n",
              "\n",
              "        [[0.62593926, 0.96036323, 0.57551473, ..., 0.36176573,\n",
              "          0.61309357, 0.77572439],\n",
              "         [0.79149524, 0.83495872, 0.45337587, ..., 0.6237101 ,\n",
              "          0.92878314, 0.72081725],\n",
              "         [0.76753939, 0.21550293, 0.46630239, ..., 0.6181766 ,\n",
              "          0.84548831, 0.99803841],\n",
              "         ...,\n",
              "         [0.87219882, 0.90535582, 0.74726569, ..., 0.57918882,\n",
              "          0.61875084, 0.264661  ],\n",
              "         [0.55260888, 0.91352782, 0.74633997, ..., 0.52597023,\n",
              "          0.8472843 , 0.63307661],\n",
              "         [0.63651422, 0.92329975, 0.85389993, ..., 0.95306775,\n",
              "          0.42915543, 0.72904076]]],\n",
              "\n",
              "\n",
              "       [[[0.53521306, 0.96036323, 0.58649374, ..., 0.08071914,\n",
              "          0.6146612 , 0.77572439],\n",
              "         [0.79149524, 0.53773121, 0.58583782, ..., 0.22309293,\n",
              "          0.34991283, 0.72081725],\n",
              "         [0.76753939, 0.82469167, 0.68954138, ..., 0.87449164,\n",
              "          0.84727719, 0.99803841],\n",
              "         ...,\n",
              "         [0.61167172, 0.90535582, 0.41775312, ..., 0.99776367,\n",
              "          0.61875084, 0.53021084],\n",
              "         [0.41930756, 0.91352782, 0.45465882, ..., 0.75841845,\n",
              "          0.8472843 , 0.10920763],\n",
              "         [0.63651422, 0.92329975, 0.66965238, ..., 0.4716348 ,\n",
              "          0.46848873, 0.33051121]],\n",
              "\n",
              "        [[0.46003981, 0.96036323, 0.48842448, ..., 0.04065984,\n",
              "          0.19070099, 0.77572439],\n",
              "         [0.79149524, 0.89135114, 0.45337587, ..., 0.51901836,\n",
              "          0.91159187, 0.72081725],\n",
              "         [0.76753939, 0.72581013, 0.23245977, ..., 0.6181766 ,\n",
              "          0.84548831, 0.99803841],\n",
              "         ...,\n",
              "         [0.36471439, 0.97509894, 0.38402441, ..., 0.57918882,\n",
              "          0.61875084, 0.28843253],\n",
              "         [0.41930756, 0.91352782, 0.81710715, ..., 0.90380848,\n",
              "          0.8472843 , 0.60171028],\n",
              "         [0.63651422, 0.92329975, 0.66965238, ..., 0.50297898,\n",
              "          0.42915543, 0.61551269]],\n",
              "\n",
              "        [[0.46003981, 0.96036323, 0.4950334 , ..., 0.04065984,\n",
              "          0.4743506 , 0.77572439],\n",
              "         [0.79149524, 0.3623125 , 0.70373916, ..., 0.47016534,\n",
              "          0.7410967 , 0.88408707],\n",
              "         [0.76753939, 0.07526614, 0.44834085, ..., 0.92613744,\n",
              "          0.84548831, 0.99803841],\n",
              "         ...,\n",
              "         [0.38589596, 0.90535582, 0.64725294, ..., 0.57918882,\n",
              "          0.71806937, 0.61444895],\n",
              "         [0.41930756, 0.98199189, 0.45465882, ..., 0.22562299,\n",
              "          0.8472843 , 0.54068345],\n",
              "         [0.63651422, 0.92329975, 0.94995541, ..., 0.74639543,\n",
              "          0.42915543, 0.55146289]]],\n",
              "\n",
              "\n",
              "       [[[0.90306993, 0.96036323, 0.43270253, ..., 0.28690281,\n",
              "          0.49547468, 0.77572439],\n",
              "         [0.79149524, 0.79653728, 0.45337587, ..., 0.22309293,\n",
              "          0.77988805, 0.72081725],\n",
              "         [0.81766308, 0.87183636, 0.51275194, ..., 0.6181766 ,\n",
              "          0.84548831, 0.99803841],\n",
              "         ...,\n",
              "         [0.99009481, 0.90535582, 0.39502843, ..., 0.57918882,\n",
              "          0.61875084, 0.08935918],\n",
              "         [0.41930756, 0.91352782, 0.56820656, ..., 0.98334154,\n",
              "          0.8472843 , 0.42001893],\n",
              "         [0.63651422, 0.92329975, 0.66965238, ..., 0.40435033,\n",
              "          0.42915543, 0.33051121]],\n",
              "\n",
              "        [[0.46003981, 0.96036323, 0.45732108, ..., 0.74687891,\n",
              "          0.70901364, 0.77572439],\n",
              "         [0.79149524, 0.3623125 , 0.83295678, ..., 0.3411418 ,\n",
              "          0.81922736, 0.75580188],\n",
              "         [0.76753939, 0.6202652 , 0.33331798, ..., 0.98509858,\n",
              "          0.84606324, 0.99803841],\n",
              "         ...,\n",
              "         [0.75338855, 0.90535582, 0.90988571, ..., 0.74701868,\n",
              "          0.61875084, 0.38808951],\n",
              "         [0.45842155, 0.91352782, 0.88177283, ..., 0.9935713 ,\n",
              "          0.8472843 , 0.56427303],\n",
              "         [0.63651422, 0.92329975, 0.66965238, ..., 0.47219064,\n",
              "          0.42915543, 0.62585121]],\n",
              "\n",
              "        [[0.91975182, 0.96036323, 0.59930968, ..., 0.41816148,\n",
              "          0.62994312, 0.81229999],\n",
              "         [0.79149524, 0.70667188, 0.74070903, ..., 0.22309293,\n",
              "          0.34991283, 0.72081725],\n",
              "         [0.76753939, 0.62548941, 0.29463873, ..., 0.6181766 ,\n",
              "          0.84548831, 0.99803841],\n",
              "         ...,\n",
              "         [0.45981499, 0.90535582, 0.80907178, ..., 0.57918882,\n",
              "          0.61875084, 0.16903658],\n",
              "         [0.45101249, 0.91352782, 0.45465882, ..., 0.34834107,\n",
              "          0.8472843 , 0.92459535],\n",
              "         [0.63651422, 0.92329975, 0.66965238, ..., 0.5938203 ,\n",
              "          0.42915543, 0.7626313 ]]],\n",
              "\n",
              "\n",
              "       ...,\n",
              "\n",
              "\n",
              "       [[[0.46003981, 0.96036323, 0.80331297, ..., 0.78652759,\n",
              "          0.46097102, 0.77572439],\n",
              "         [0.79149524, 0.8121433 , 0.65012095, ..., 0.34723187,\n",
              "          0.34991283, 0.72081725],\n",
              "         [0.76753939, 0.30187466, 0.08911096, ..., 0.95774156,\n",
              "          0.84548831, 0.99803841],\n",
              "         ...,\n",
              "         [0.36471439, 0.90535582, 0.38402441, ..., 0.87430241,\n",
              "          0.80072545, 0.16192047],\n",
              "         [0.55649394, 0.91352782, 0.45465882, ..., 0.26750921,\n",
              "          0.8472843 , 0.10920763],\n",
              "         [0.63651422, 0.92329975, 0.71018669, ..., 0.65360666,\n",
              "          0.42915543, 0.86247028]],\n",
              "\n",
              "        [[0.46003981, 0.96036323, 0.98344249, ..., 0.60717177,\n",
              "          0.8167658 , 0.77572439],\n",
              "         [0.79149524, 0.3623125 , 0.79807964, ..., 0.90312528,\n",
              "          0.34991283, 0.72081725],\n",
              "         [0.76753939, 0.63776352, 0.42413573, ..., 0.78831153,\n",
              "          0.84548831, 0.99803841],\n",
              "         ...,\n",
              "         [0.36471439, 0.90535582, 0.87992102, ..., 0.57918882,\n",
              "          0.66435563, 0.08935918],\n",
              "         [0.43683817, 0.91352782, 0.97784656, ..., 0.93557925,\n",
              "          0.8472843 , 0.33907266],\n",
              "         [0.63651422, 0.92329975, 0.66965238, ..., 0.85255894,\n",
              "          0.42915543, 0.92357887]],\n",
              "\n",
              "        [[0.88994259, 0.96036323, 0.43270253, ..., 0.82917046,\n",
              "          0.850667  , 0.77572439],\n",
              "         [0.79149524, 0.3623125 , 0.45337587, ..., 0.41489292,\n",
              "          0.50692688, 0.72081725],\n",
              "         [0.76753939, 0.33084927, 0.86992677, ..., 0.6181766 ,\n",
              "          0.84548831, 0.99803841],\n",
              "         ...,\n",
              "         [0.36471439, 0.90535582, 0.38402441, ..., 0.57918882,\n",
              "          0.68054868, 0.95732022],\n",
              "         [0.41930756, 0.91352782, 0.45465882, ..., 0.8256961 ,\n",
              "          0.8472843 , 0.6082789 ],\n",
              "         [0.99414991, 0.92329975, 0.96741396, ..., 0.6128876 ,\n",
              "          0.93495179, 0.33051121]]],\n",
              "\n",
              "\n",
              "       [[[0.82504093, 0.96036323, 0.43270253, ..., 0.14378732,\n",
              "          0.48746164, 0.77572439],\n",
              "         [0.79149524, 0.37739931, 0.93232515, ..., 0.23365114,\n",
              "          0.68934375, 0.85086303],\n",
              "         [0.76753939, 0.44657832, 0.40099596, ..., 0.95679395,\n",
              "          0.84548831, 0.99803841],\n",
              "         ...,\n",
              "         [0.66388075, 0.90535582, 0.38402441, ..., 0.58397717,\n",
              "          0.61875084, 0.68094578],\n",
              "         [0.6898831 , 0.91352782, 0.58331755, ..., 0.20424585,\n",
              "          0.8472843 , 0.34280417],\n",
              "         [0.8561476 , 0.92329975, 0.85880912, ..., 0.40435033,\n",
              "          0.42915543, 0.98413657]],\n",
              "\n",
              "        [[0.76317041, 0.96036323, 0.43270253, ..., 0.72592416,\n",
              "          0.66710422, 0.77572439],\n",
              "         [0.88679297, 0.8465247 , 0.85482165, ..., 0.4310762 ,\n",
              "          0.50005017, 0.72081725],\n",
              "         [0.76753939, 0.62801962, 0.35537022, ..., 0.6181766 ,\n",
              "          0.84548831, 0.99803841],\n",
              "         ...,\n",
              "         [0.78575551, 0.90535582, 0.56646067, ..., 0.57918882,\n",
              "          0.61875084, 0.84246368],\n",
              "         [0.94182126, 0.99681992, 0.5357868 , ..., 0.94392998,\n",
              "          0.8472843 , 0.98081518],\n",
              "         [0.63651422, 0.94833019, 0.66965238, ..., 0.81098   ,\n",
              "          0.42915543, 0.87683079]],\n",
              "\n",
              "        [[0.46003981, 0.96036323, 0.75532203, ..., 0.50119697,\n",
              "          0.19070099, 0.77572439],\n",
              "         [0.79149524, 0.3623125 , 0.72609302, ..., 0.72425893,\n",
              "          0.34991283, 0.72081725],\n",
              "         [0.76753939, 0.68941931, 0.86212422, ..., 0.67727378,\n",
              "          0.84548831, 0.99803841],\n",
              "         ...,\n",
              "         [0.36471439, 0.90535582, 0.38402441, ..., 0.9765321 ,\n",
              "          0.61875084, 0.10711207],\n",
              "         [0.41930756, 0.97300088, 0.6134454 , ..., 0.51247277,\n",
              "          0.84793233, 0.11365693],\n",
              "         [0.63651422, 0.92329975, 0.81638906, ..., 0.40435033,\n",
              "          0.42915543, 0.62967563]]],\n",
              "\n",
              "\n",
              "       [[[0.46003981, 0.96036323, 0.43270253, ..., 0.84247663,\n",
              "          0.6058359 , 0.77572439],\n",
              "         [0.79149524, 0.44224633, 0.47922609, ..., 0.22309293,\n",
              "          0.68761592, 0.72081725],\n",
              "         [0.76753939, 0.42625078, 0.89884301, ..., 0.79572696,\n",
              "          0.9353449 , 0.99803841],\n",
              "         ...,\n",
              "         [0.68864486, 0.90535582, 0.76996786, ..., 0.57918882,\n",
              "          0.61875084, 0.08935918],\n",
              "         [0.67134961, 0.91352782, 0.45465882, ..., 0.3657443 ,\n",
              "          0.8472843 , 0.84817645],\n",
              "         [0.63651422, 0.92329975, 0.73517857, ..., 0.57058957,\n",
              "          0.49236527, 0.63227419]],\n",
              "\n",
              "        [[0.46003981, 0.96036323, 0.43270253, ..., 0.04065984,\n",
              "          0.67045356, 0.81762287],\n",
              "         [0.79149524, 0.5590952 , 0.45337587, ..., 0.22309293,\n",
              "          0.81375102, 0.72081725],\n",
              "         [0.76753939, 0.13070059, 0.56342499, ..., 0.81156819,\n",
              "          0.99091238, 0.99803841],\n",
              "         ...,\n",
              "         [0.36471439, 0.90535582, 0.38402441, ..., 0.57918882,\n",
              "          0.61875084, 0.50391341],\n",
              "         [0.41930756, 0.91352782, 0.64483133, ..., 0.70193676,\n",
              "          0.8472843 , 0.37429547],\n",
              "         [0.91820824, 0.92329975, 0.66965238, ..., 0.8383717 ,\n",
              "          0.9049805 , 0.52778605]],\n",
              "\n",
              "        [[0.46003981, 0.98369062, 0.43270253, ..., 0.5484293 ,\n",
              "          0.76242113, 0.8064003 ],\n",
              "         [0.79149524, 0.85339588, 0.45337587, ..., 0.50868518,\n",
              "          0.67250544, 0.93346881],\n",
              "         [0.76753939, 0.74519168, 0.57315843, ..., 0.6181766 ,\n",
              "          0.84548831, 0.99803841],\n",
              "         ...,\n",
              "         [0.36471439, 0.90535582, 0.62143174, ..., 0.66470538,\n",
              "          0.61875084, 0.28531731],\n",
              "         [0.85695827, 0.91352782, 0.87218681, ..., 0.66789986,\n",
              "          0.8472843 , 0.10920763],\n",
              "         [0.63651422, 0.92329975, 0.66965238, ..., 0.40435033,\n",
              "          0.51461463, 0.59322358]]]])"
            ]
          },
          "metadata": {
            "tags": []
          },
          "execution_count": 88
        }
      ]
    },
    {
      "metadata": {
        "id": "2gAYCdB1jNQT",
        "colab_type": "code",
        "colab": {}
      },
      "cell_type": "code",
      "source": [
        "import numpy as np"
      ],
      "execution_count": 0,
      "outputs": []
    },
    {
      "metadata": {
        "id": "1EM5YsbljRl1",
        "colab_type": "code",
        "colab": {}
      },
      "cell_type": "code",
      "source": [
        "#A naive implementation of dot"
      ],
      "execution_count": 0,
      "outputs": []
    },
    {
      "metadata": {
        "id": "sPmmPLJyjTTl",
        "colab_type": "code",
        "colab": {}
      },
      "cell_type": "code",
      "source": [
        "def naive_vector_dot(x,y):\n",
        "  #x and y are Numpy vectors\n",
        "  assert len(x.sahpe)==1\n",
        "  assert len(y.shape)==1\n",
        "  assert x.shape[0]==y.shape[0]\n",
        "  \n",
        "  z=0\n",
        "  for i in range(x.shape[0]):\n",
        "    z +=x[i]*y[i]\n",
        "  return z"
      ],
      "execution_count": 0,
      "outputs": []
    },
    {
      "metadata": {
        "id": "k16DSaUFjj4G",
        "colab_type": "code",
        "colab": {}
      },
      "cell_type": "code",
      "source": [
        "#A naive implementation of matrix-vector dot"
      ],
      "execution_count": 0,
      "outputs": []
    },
    {
      "metadata": {
        "id": "EaRtF0yFkCU3",
        "colab_type": "code",
        "colab": {}
      },
      "cell_type": "code",
      "source": [
        "import numpy as np"
      ],
      "execution_count": 0,
      "outputs": []
    },
    {
      "metadata": {
        "id": "HcYSfJpxkEH4",
        "colab_type": "code",
        "colab": {}
      },
      "cell_type": "code",
      "source": [
        "def naive_matrix_vector_dot(x,y):\n",
        "  #x ia a numpy matrix\n",
        "  #y is a numpy vector\n",
        "  assert len(x.shape)==2\n",
        "  assert len(y.shape)==1\n",
        "  #The 1st dimension of x must be\n",
        "  #the same as the oth dimension of y!\n",
        "  assert x.shape[1]==y.shape[0]\n",
        "  \n",
        "  #This operation returns a vector of 0s\n",
        "  #with the same shape as y\n",
        "  z=np.zeros(x.shape[0])\n",
        "  for i in range(x.shape[0]):\n",
        "    for j in range(x.shape[1]):\n",
        "      z[i] +=x[i,j]*y[j]\n",
        "  return z"
      ],
      "execution_count": 0,
      "outputs": []
    },
    {
      "metadata": {
        "id": "7H4E9rDnk3Wz",
        "colab_type": "code",
        "colab": {}
      },
      "cell_type": "code",
      "source": [
        "#Alternative naive implementation of matrix-veector dot"
      ],
      "execution_count": 0,
      "outputs": []
    },
    {
      "metadata": {
        "id": "fWswYkwLlAkk",
        "colab_type": "code",
        "colab": {}
      },
      "cell_type": "code",
      "source": [
        "def naive_matrix_vector_dot(x,y):\n",
        "  z=np.zeros(x.shape[0])\n",
        "  for i in range(x.shape[0]):\n",
        "    z[i]=naive_vector_dot(x[i,:],y)\n",
        "  return z"
      ],
      "execution_count": 0,
      "outputs": []
    },
    {
      "metadata": {
        "id": "uitGaTwBlV0h",
        "colab_type": "code",
        "colab": {}
      },
      "cell_type": "code",
      "source": [
        "#A naive implementation of matrix-matrix dot"
      ],
      "execution_count": 0,
      "outputs": []
    },
    {
      "metadata": {
        "id": "VnIjw1U4lhVl",
        "colab_type": "code",
        "colab": {}
      },
      "cell_type": "code",
      "source": [
        "def naive_matrix_dot(x,y):\n",
        "  #x and y are numpy matrices\n",
        "  assert len(x.shape)==2\n",
        "  assert len(y.shape)==2\n",
        "  #the 1st dimension of x must be \n",
        "  #the same as the oth dimension of y!\n",
        "  assert x.shape[1]==y.shape[0]\n",
        "  \n",
        "  #This operation returns a matris of 0s\n",
        "  #with a specific shape\n",
        "  z=np.zeros((x.shape[0],y.shape[1]))\n",
        "  #we iterate over the rows of s\n",
        "  for i in range(x.shape[0]):\n",
        "    #And over the columns of y\n",
        "    for j in range(y.shape[1]):\n",
        "      row_x=x[i,:]\n",
        "      column_y=y[:,j]\n",
        "      z[i,j]=naive_vector_dot(row_x,column_y)\n",
        "  return z"
      ],
      "execution_count": 0,
      "outputs": []
    },
    {
      "metadata": {
        "id": "NlW5P5gfmlnC",
        "colab_type": "code",
        "colab": {}
      },
      "cell_type": "code",
      "source": [
        "train_images=train_images.reshape((60000,28*28))"
      ],
      "execution_count": 0,
      "outputs": []
    },
    {
      "metadata": {
        "id": "d_4lW5TfmutB",
        "colab_type": "code",
        "colab": {}
      },
      "cell_type": "code",
      "source": [
        "x=np.array([[0.,1.],[2.,3.],[4.,5.]])"
      ],
      "execution_count": 0,
      "outputs": []
    },
    {
      "metadata": {
        "id": "fCvFq6T6m7PE",
        "colab_type": "code",
        "colab": {
          "base_uri": "https://localhost:8080/",
          "height": 34
        },
        "outputId": "417be10c-c787-4bd5-c6b8-555564e83aee"
      },
      "cell_type": "code",
      "source": [
        "print(x.shape)"
      ],
      "execution_count": 104,
      "outputs": [
        {
          "output_type": "stream",
          "text": [
            "(3, 2)\n"
          ],
          "name": "stdout"
        }
      ]
    },
    {
      "metadata": {
        "id": "E_prPJUXm9P0",
        "colab_type": "code",
        "colab": {}
      },
      "cell_type": "code",
      "source": [
        "x=x.reshape((6,1))"
      ],
      "execution_count": 0,
      "outputs": []
    },
    {
      "metadata": {
        "id": "Qj-6JhjwnBf1",
        "colab_type": "code",
        "colab": {
          "base_uri": "https://localhost:8080/",
          "height": 119
        },
        "outputId": "52b358b5-e1c2-4768-97fb-8c102874ff9e"
      },
      "cell_type": "code",
      "source": [
        "x"
      ],
      "execution_count": 107,
      "outputs": [
        {
          "output_type": "execute_result",
          "data": {
            "text/plain": [
              "array([[0.],\n",
              "       [1.],\n",
              "       [2.],\n",
              "       [3.],\n",
              "       [4.],\n",
              "       [5.]])"
            ]
          },
          "metadata": {
            "tags": []
          },
          "execution_count": 107
        }
      ]
    },
    {
      "metadata": {
        "id": "3LpEDxfAnCJE",
        "colab_type": "code",
        "colab": {}
      },
      "cell_type": "code",
      "source": [
        "x=x.reshape((2,3))"
      ],
      "execution_count": 0,
      "outputs": []
    },
    {
      "metadata": {
        "id": "RURzPGN9nHZE",
        "colab_type": "code",
        "colab": {
          "base_uri": "https://localhost:8080/",
          "height": 51
        },
        "outputId": "5807ee37-b802-4e85-f89d-56964e5fd749"
      },
      "cell_type": "code",
      "source": [
        "x"
      ],
      "execution_count": 109,
      "outputs": [
        {
          "output_type": "execute_result",
          "data": {
            "text/plain": [
              "array([[0., 1., 2.],\n",
              "       [3., 4., 5.]])"
            ]
          },
          "metadata": {
            "tags": []
          },
          "execution_count": 109
        }
      ]
    },
    {
      "metadata": {
        "id": "JoFIl_F4nIGk",
        "colab_type": "code",
        "colab": {}
      },
      "cell_type": "code",
      "source": [
        "x=np.zeros((300,20))"
      ],
      "execution_count": 0,
      "outputs": []
    },
    {
      "metadata": {
        "id": "y8AdTXU6nLXU",
        "colab_type": "code",
        "colab": {
          "base_uri": "https://localhost:8080/",
          "height": 136
        },
        "outputId": "c0b33b2b-cad8-481d-e47f-fabb6645c8cd"
      },
      "cell_type": "code",
      "source": [
        "x"
      ],
      "execution_count": 111,
      "outputs": [
        {
          "output_type": "execute_result",
          "data": {
            "text/plain": [
              "array([[0., 0., 0., ..., 0., 0., 0.],\n",
              "       [0., 0., 0., ..., 0., 0., 0.],\n",
              "       [0., 0., 0., ..., 0., 0., 0.],\n",
              "       ...,\n",
              "       [0., 0., 0., ..., 0., 0., 0.],\n",
              "       [0., 0., 0., ..., 0., 0., 0.],\n",
              "       [0., 0., 0., ..., 0., 0., 0.]])"
            ]
          },
          "metadata": {
            "tags": []
          },
          "execution_count": 111
        }
      ]
    },
    {
      "metadata": {
        "id": "zS2vyN6QnL2z",
        "colab_type": "code",
        "colab": {}
      },
      "cell_type": "code",
      "source": [
        "x=np.transpose(x)"
      ],
      "execution_count": 0,
      "outputs": []
    },
    {
      "metadata": {
        "id": "KUBOHSYTnObz",
        "colab_type": "code",
        "colab": {
          "base_uri": "https://localhost:8080/",
          "height": 34
        },
        "outputId": "28e2d730-4b04-42b5-a95c-db7499583dda"
      },
      "cell_type": "code",
      "source": [
        "print(x.shape)"
      ],
      "execution_count": 113,
      "outputs": [
        {
          "output_type": "stream",
          "text": [
            "(20, 300)\n"
          ],
          "name": "stdout"
        }
      ]
    },
    {
      "metadata": {
        "id": "8IiT0jYLnP-T",
        "colab_type": "code",
        "colab": {}
      },
      "cell_type": "code",
      "source": [
        "#MNIST input data"
      ],
      "execution_count": 0,
      "outputs": []
    },
    {
      "metadata": {
        "id": "MXjbT8A1nbUk",
        "colab_type": "code",
        "colab": {}
      },
      "cell_type": "code",
      "source": [
        "(train_images,trin_labels),(test_images,test_labels)=mnist.load_data()"
      ],
      "execution_count": 0,
      "outputs": []
    },
    {
      "metadata": {
        "id": "CtqRBy7XnnJT",
        "colab_type": "code",
        "colab": {}
      },
      "cell_type": "code",
      "source": [
        "train_images=train_images.reshape((60000,28*28))"
      ],
      "execution_count": 0,
      "outputs": []
    },
    {
      "metadata": {
        "id": "EbA7io2tnt0V",
        "colab_type": "code",
        "colab": {}
      },
      "cell_type": "code",
      "source": [
        "train_images=train_images.astype('float32')/255"
      ],
      "execution_count": 0,
      "outputs": []
    },
    {
      "metadata": {
        "id": "UbavrcMRn0Vj",
        "colab_type": "code",
        "colab": {}
      },
      "cell_type": "code",
      "source": [
        "test_images=test_images.reshape((10000,28*28))"
      ],
      "execution_count": 0,
      "outputs": []
    },
    {
      "metadata": {
        "id": "33ZP_JwKn6c0",
        "colab_type": "code",
        "colab": {}
      },
      "cell_type": "code",
      "source": [
        "test_images=test_images.astype('float32')/255"
      ],
      "execution_count": 0,
      "outputs": []
    },
    {
      "metadata": {
        "id": "TRLE-OkboAxT",
        "colab_type": "code",
        "colab": {}
      },
      "cell_type": "code",
      "source": [
        "network=models.Sequential()"
      ],
      "execution_count": 0,
      "outputs": []
    },
    {
      "metadata": {
        "id": "3_io1uKloGw0",
        "colab_type": "code",
        "colab": {}
      },
      "cell_type": "code",
      "source": [
        "network.add(layers.Dense(512,activation='relu',input_shape=(28*28,)))"
      ],
      "execution_count": 0,
      "outputs": []
    },
    {
      "metadata": {
        "id": "WIjxxNGaoWPy",
        "colab_type": "code",
        "colab": {}
      },
      "cell_type": "code",
      "source": [
        "network.add(layers.Dense(10,activation='softmax'))"
      ],
      "execution_count": 0,
      "outputs": []
    },
    {
      "metadata": {
        "id": "KDTI_6-MomiS",
        "colab_type": "code",
        "colab": {}
      },
      "cell_type": "code",
      "source": [
        "network.compile(optimizer='rmsprop',loss='categorical_crossentropy',\n",
        "               metrics=['accuracy'])"
      ],
      "execution_count": 0,
      "outputs": []
    },
    {
      "metadata": {
        "id": "En5aYjcSo1gJ",
        "colab_type": "code",
        "colab": {}
      },
      "cell_type": "code",
      "source": [
        ""
      ],
      "execution_count": 0,
      "outputs": []
    },
    {
      "metadata": {
        "id": "2yhwwsYLo-Rp",
        "colab_type": "code",
        "colab": {}
      },
      "cell_type": "code",
      "source": [
        ""
      ],
      "execution_count": 0,
      "outputs": []
    }
  ]
}